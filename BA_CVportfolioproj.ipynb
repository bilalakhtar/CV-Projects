{
 "cells": [
  {
   "cell_type": "markdown",
   "id": "86991bc6-4e6d-4940-9b10-696bd90a7c76",
   "metadata": {},
   "source": [
    "# Portfolio Project"
   ]
  },
  {
   "cell_type": "markdown",
   "id": "2e4e2d4d-0f9a-4aa5-9cc3-38cc234964fe",
   "metadata": {},
   "source": [
    "We'll perform the following steps:\n",
    "\n",
    "1. Import Libraries\n",
    "2. Set Up Directory Paths\n",
    "3. Prepare Data Generators\n",
    "4. Build the Custom CNN Model\n",
    "5. Build the Transfer Learning Model\n",
    "6. Train Both Models\n",
    "7. Evaluate and Compare Models\n",
    "\n",
    "Let's get started!"
   ]
  },
  {
   "cell_type": "markdown",
   "id": "e8e7e8b8-ab1f-460a-98a4-89161cba9897",
   "metadata": {},
   "source": [
    "### 1. Import Libraries\n",
    "\n",
    "##### Libraries\n",
    "##### First, import necessary libraries:"
   ]
  },
  {
   "cell_type": "code",
   "execution_count": 143,
   "id": "2e72e6a2-1a20-4dc4-beaa-28103d7e8080",
   "metadata": {},
   "outputs": [],
   "source": [
    "import os\n",
    "import pandas as pd\n",
    "import numpy as np\n",
    "import matplotlib.pyplot as plt\n",
    "import seaborn as sns"
   ]
  },
  {
   "cell_type": "code",
   "execution_count": 145,
   "id": "a15c6be4-3566-4af0-98ae-1680e4563452",
   "metadata": {},
   "outputs": [],
   "source": [
    "import tensorflow as tf\n",
    "\n",
    "from tensorflow.keras.preprocessing.image import ImageDataGenerator\n",
    "from tensorflow.keras.models import Sequential, Model\n",
    "from tensorflow.keras.layers import Conv2D, MaxPooling2D, Flatten, Dense, Dropout\n",
    "from tensorflow.keras.optimizers import Adam\n",
    "from tensorflow.keras.applications import VGG16\n",
    "from tensorflow.keras.callbacks import EarlyStopping, ModelCheckpoint"
   ]
  },
  {
   "cell_type": "code",
   "execution_count": 147,
   "id": "b67cc737-4739-4751-a7f8-2077ff4cef11",
   "metadata": {},
   "outputs": [],
   "source": [
    "from sklearn.metrics import classification_report, confusion_matrix"
   ]
  },
  {
   "cell_type": "markdown",
   "id": "09bd4c57-9952-4211-9959-cfad01172ace",
   "metadata": {},
   "source": [
    "### 2. Set Up Directory Paths\n",
    "##### Define the paths to your dataset directories and CSV file. Adjust the base_dir to point to where your dataset is located"
   ]
  },
  {
   "cell_type": "code",
   "execution_count": 150,
   "id": "32fd32be-441e-4b67-871b-271b85032a34",
   "metadata": {},
   "outputs": [],
   "source": [
    "# Define base directory\n",
    "base_dir = os.path.join(os.getcwd(), 'multiclass_weather_dataset')\n",
    "\n",
    "# Directories for training and validation (the 5 class folders)\n",
    "train_val_dir = base_dir\n",
    "\n",
    "# Directory and CSV for testing\n",
    "test_dir = os.path.join(base_dir, 'alien-test')\n",
    "labels_csv = os.path.join(base_dir, 'test.csv')"
   ]
  },
  {
   "cell_type": "markdown",
   "id": "8feecd8c-0a43-4c8b-b71d-281e5074962c",
   "metadata": {},
   "source": [
    "testing the dir"
   ]
  },
  {
   "cell_type": "code",
   "execution_count": 152,
   "id": "3c3a402f-2116-411c-bf8d-f19113ac6893",
   "metadata": {},
   "outputs": [
    {
     "name": "stdout",
     "output_type": "stream",
     "text": [
      "First 5 entries of test.csv:\n",
      "       Image_id  labels\n",
      "0   Cloud_1.png       0\n",
      "1   Cloud_2.jpg       0\n",
      "2  Cloud_3.jpeg       0\n",
      "3   Cloud_4.jpg       0\n",
      "4   foggy_1.jpg       1\n",
      "5   foggy_2.jpg       1\n",
      "6   foggy_3.jpg       1\n",
      "7   foggy_4.jpg       1\n",
      "8   foggy_5.jpg       1\n",
      "9   foggy_6.jpg       1\n",
      "Columns in test.csv: ['Image_id', 'labels']\n"
     ]
    }
   ],
   "source": [
    "# Read the CSV file\n",
    "labels_df = pd.read_csv(test_csv)\n",
    "\n",
    "# Verify the DataFrame structure\n",
    "print(\"First 5 entries of test.csv:\")\n",
    "print(labels_df.head(10))\n",
    "\n",
    "# Check column names\n",
    "print(\"Columns in test.csv:\", labels_df.columns.tolist())\n"
   ]
  },
  {
   "cell_type": "code",
   "execution_count": null,
   "id": "f4ddffa2-4163-4c21-8c23-7e22bf8e87a0",
   "metadata": {},
   "outputs": [],
   "source": []
  },
  {
   "cell_type": "code",
   "execution_count": 154,
   "id": "55e612e7-d094-4951-b359-4f03dcca6810",
   "metadata": {},
   "outputs": [
    {
     "name": "stdout",
     "output_type": "stream",
     "text": [
      "\n",
      "Unique labels in test set: [0 1 2 3 4]\n"
     ]
    }
   ],
   "source": [
    "print(\"\\nUnique labels in test set:\", labels_df['labels'].unique())"
   ]
  },
  {
   "cell_type": "code",
   "execution_count": 156,
   "id": "f81dbf2c-3fd5-44c8-a2c1-e2d881cf20ff",
   "metadata": {},
   "outputs": [
    {
     "name": "stdout",
     "output_type": "stream",
     "text": [
      "       Image_id  labels\n",
      "0   Cloud_1.png       0\n",
      "1   Cloud_2.jpg       0\n",
      "2  Cloud_3.jpeg       0\n",
      "3   Cloud_4.jpg       0\n",
      "4   foggy_1.jpg       1\n"
     ]
    }
   ],
   "source": [
    "print(labels_df.head())"
   ]
  },
  {
   "cell_type": "code",
   "execution_count": 158,
   "id": "181919ac-bb42-4dc0-b178-6316a0803477",
   "metadata": {},
   "outputs": [
    {
     "name": "stdout",
     "output_type": "stream",
     "text": [
      "['Image_id', 'labels']\n"
     ]
    }
   ],
   "source": [
    "print(labels_df.columns.tolist())"
   ]
  },
  {
   "cell_type": "code",
   "execution_count": null,
   "id": "b8289b76-3107-41df-8d24-6d69e2c046c8",
   "metadata": {},
   "outputs": [],
   "source": []
  },
  {
   "cell_type": "code",
   "execution_count": null,
   "id": "c54f89c0-c8b0-4d5d-a832-4e216602bb59",
   "metadata": {},
   "outputs": [],
   "source": []
  },
  {
   "cell_type": "markdown",
   "id": "c62b59f4-9cb0-4129-98eb-79bc381d3b96",
   "metadata": {},
   "source": [
    "### 3. Prepare Data Generators"
   ]
  },
  {
   "cell_type": "markdown",
   "id": "dd283dbb-0308-49e6-b594-818c86a91401",
   "metadata": {},
   "source": [
    "##### Training and Validation Generators\n",
    "Use ImageDataGenerator to create training and validation data generators. We'll use a validation_split of 15%."
   ]
  },
  {
   "cell_type": "code",
   "execution_count": 129,
   "id": "7554b450-d5fd-4e2c-82ab-f5c5ef95429e",
   "metadata": {},
   "outputs": [
    {
     "name": "stdout",
     "output_type": "stream",
     "text": [
      "Found 1302 images belonging to 6 classes.\n",
      "Found 228 images belonging to 6 classes.\n",
      "Training Class Indices: {'alien_test': 0, 'cloudy': 1, 'foggy': 2, 'rainy': 3, 'shine': 4, 'sunrise': 5}\n"
     ]
    }
   ],
   "source": [
    "# Parameters\n",
    "img_size = (224, 224)\n",
    "batch_size = 32\n",
    "\n",
    "# ImageDataGenerator with data augmentation for training and rescaling for validation\n",
    "train_val_datagen = ImageDataGenerator(\n",
    "    rescale=1./255,\n",
    "    validation_split=0.15,  # 15% for validation\n",
    "    rotation_range=20,\n",
    "    width_shift_range=0.2,\n",
    "    height_shift_range=0.2,\n",
    "    shear_range=0.2,\n",
    "    zoom_range=0.2,\n",
    "    horizontal_flip=True,\n",
    "    fill_mode='nearest'\n",
    ")\n",
    "\n",
    "# Training generator\n",
    "train_generator = train_val_datagen.flow_from_directory(\n",
    "    train_val_dir,\n",
    "    target_size=img_size,\n",
    "    batch_size=batch_size,\n",
    "    class_mode='categorical',\n",
    "    subset='training',\n",
    "    shuffle=True\n",
    ")\n",
    "\n",
    "# Validation generator\n",
    "validation_generator = train_val_datagen.flow_from_directory(\n",
    "    train_val_dir,\n",
    "    target_size=img_size,\n",
    "    batch_size=batch_size,\n",
    "    class_mode='categorical',\n",
    "    subset='validation',\n",
    "    shuffle=False\n",
    ")\n",
    "\n",
    "# Print class indices\n",
    "print(\"Training Class Indices:\", train_generator.class_indices)"
   ]
  },
  {
   "cell_type": "markdown",
   "id": "f505a94d-5b40-440e-b24c-811537ebca4f",
   "metadata": {},
   "source": [
    "##### Test Generator\n",
    "Load the test data using flow_from_dataframe with labels from labels.csv."
   ]
  },
  {
   "cell_type": "code",
   "execution_count": 131,
   "id": "ca5d73eb-4f6a-4c8c-aeeb-ab5d44635a71",
   "metadata": {},
   "outputs": [
    {
     "name": "stdout",
     "output_type": "stream",
     "text": [
      "Index(['Image_id', 'labels'], dtype='object')\n"
     ]
    }
   ],
   "source": [
    "print(labels_df.columns)"
   ]
  },
  {
   "cell_type": "code",
   "execution_count": 133,
   "id": "f9fea2ba-d0a2-41ec-9745-73483fa04bdc",
   "metadata": {},
   "outputs": [],
   "source": [
    "labels_df['Image_id'] = labels_df['Image_id'].apply(lambda x: os.path.join(test_dir, x))"
   ]
  },
  {
   "cell_type": "code",
   "execution_count": 135,
   "id": "c8d2a93d-4042-451c-93b2-a05a0a5c320f",
   "metadata": {},
   "outputs": [
    {
     "name": "stdout",
     "output_type": "stream",
     "text": [
      "First 5 entries after updating file paths:\n",
      "                                            Image_id  labels\n",
      "0  C:\\Users\\Bilal Akhtar\\Downloads\\Computer Visio...       0\n",
      "1  C:\\Users\\Bilal Akhtar\\Downloads\\Computer Visio...       0\n",
      "2  C:\\Users\\Bilal Akhtar\\Downloads\\Computer Visio...       0\n",
      "3  C:\\Users\\Bilal Akhtar\\Downloads\\Computer Visio...       0\n",
      "4  C:\\Users\\Bilal Akhtar\\Downloads\\Computer Visio...       1\n"
     ]
    }
   ],
   "source": [
    "# Verify the updated DataFrame\n",
    "print(\"First 5 entries after updating file paths:\")\n",
    "print(labels_df.head())"
   ]
  },
  {
   "cell_type": "code",
   "execution_count": 137,
   "id": "a4fc6a32-f3a2-4de9-af9d-e25771cfc675",
   "metadata": {},
   "outputs": [],
   "source": [
    "labels_df['labels'] = labels_df['labels'].astype(str)"
   ]
  },
  {
   "cell_type": "code",
   "execution_count": 141,
   "id": "fa8cce2a-8925-416d-a42a-dcf9db241bfc",
   "metadata": {},
   "outputs": [
    {
     "name": "stdout",
     "output_type": "stream",
     "text": [
      "Columns in test.csv: ['Image_id', 'labels']\n",
      "\n",
      "First 5 entries in test.csv:\n",
      "                                            Image_id labels\n",
      "0  C:\\Users\\Bilal Akhtar\\Downloads\\Computer Visio...      0\n",
      "1  C:\\Users\\Bilal Akhtar\\Downloads\\Computer Visio...      0\n",
      "2  C:\\Users\\Bilal Akhtar\\Downloads\\Computer Visio...      0\n",
      "3  C:\\Users\\Bilal Akhtar\\Downloads\\Computer Visio...      0\n",
      "4  C:\\Users\\Bilal Akhtar\\Downloads\\Computer Visio...      1\n"
     ]
    }
   ],
   "source": [
    "print(\"Columns in test.csv:\", labels_df.columns.tolist())\n",
    "print(\"\\nFirst 5 entries in test.csv:\")\n",
    "print(labels_df.head())"
   ]
  },
  {
   "cell_type": "code",
   "execution_count": 139,
   "id": "146c3bf3-93a9-495c-a019-4220328e81aa",
   "metadata": {},
   "outputs": [
    {
     "name": "stdout",
     "output_type": "stream",
     "text": [
      "Found 0 validated image filenames belonging to 0 classes.\n",
      "Test Class Indices: {}\n"
     ]
    },
    {
     "name": "stderr",
     "output_type": "stream",
     "text": [
      "C:\\Users\\Bilal Akhtar\\anaconda3\\Lib\\site-packages\\keras\\src\\legacy\\preprocessing\\image.py:920: UserWarning: Found 30 invalid image filename(s) in x_col=\"Image_id\". These filename(s) will be ignored.\n",
      "  warnings.warn(\n"
     ]
    }
   ],
   "source": [
    "# Create the test generator\n",
    "test_datagen = ImageDataGenerator(rescale=1./255)\n",
    "\n",
    "test_generator = test_datagen.flow_from_dataframe(\n",
    "    dataframe=labels_df,\n",
    "    x_col='Image_id',\n",
    "    y_col='labels',\n",
    "    target_size=img_size,\n",
    "    batch_size=batch_size,\n",
    "    class_mode='categorical',\n",
    "    shuffle=False\n",
    ")\n",
    "\n",
    "# Print class indices\n",
    "print(\"Test Class Indices:\", test_generator.class_indices)"
   ]
  },
  {
   "cell_type": "code",
   "execution_count": null,
   "id": "a30fb78d-1a46-4246-b92a-49e18bb76899",
   "metadata": {},
   "outputs": [],
   "source": []
  },
  {
   "cell_type": "markdown",
   "id": "c6770c5a-76fd-4f6f-88da-62a34c444051",
   "metadata": {},
   "source": [
    "### 4. Build the Custom CNN Model\n",
    "##### Define a simple Convolutional Neural Network from scratch."
   ]
  },
  {
   "cell_type": "code",
   "execution_count": null,
   "id": "b158af64-5e7c-4d03-9273-3d893e53534b",
   "metadata": {},
   "outputs": [],
   "source": [
    "def build_custom_cnn(input_shape, num_classes):\n",
    "    model = Sequential([\n",
    "        Conv2D(32, (3,3), activation='relu', input_shape=input_shape),\n",
    "        MaxPooling2D(2,2),\n",
    "        \n",
    "        Conv2D(64, (3,3), activation='relu'),\n",
    "        MaxPooling2D(2,2),\n",
    "        \n",
    "        Conv2D(128, (3,3), activation='relu'),\n",
    "        MaxPooling2D(2,2),\n",
    "        \n",
    "        Flatten(),\n",
    "        Dense(128, activation='relu'),\n",
    "        Dropout(0.5),\n",
    "        Dense(num_classes, activation='softmax')\n",
    "    ])\n",
    "    \n",
    "    # Compile the model\n",
    "    model.compile(optimizer=Adam(learning_rate=0.001),\n",
    "                  loss='categorical_crossentropy',\n",
    "                  metrics=['accuracy'])\n",
    "    return model\n",
    "\n",
    "# Get input shape and number of classes\n",
    "input_shape = (224, 224, 3)\n",
    "num_classes = train_generator.num_classes\n",
    "\n",
    "# Build the model\n",
    "custom_cnn = build_custom_cnn(input_shape, num_classes)\n",
    "custom_cnn.summary()"
   ]
  },
  {
   "cell_type": "code",
   "execution_count": null,
   "id": "083cdae3-42c3-4448-8c62-757a6d0c4023",
   "metadata": {},
   "outputs": [],
   "source": []
  },
  {
   "cell_type": "markdown",
   "id": "e4e4c7d7-8802-4eb4-8e16-c80b2a78c599",
   "metadata": {},
   "source": [
    "#### Transfer Learning Evaluation"
   ]
  },
  {
   "cell_type": "code",
   "execution_count": null,
   "id": "6a9233b3-37ef-4c07-8034-42a61aac15dc",
   "metadata": {},
   "outputs": [],
   "source": [
    "# Evaluate transfer model on validation data\n",
    "transfer_eval = transfer_model.evaluate(validation_generator)\n",
    "print(f\"Transfer Learning Accuracy: {transfer_eval[1]*100:.2f}%\")\n",
    "\n",
    "# Predictions and classification report\n",
    "pred_transfer = transfer_model.predict(validation_generator)\n",
    "pred_transfer_labels = np.argmax(pred_transfer, axis=1)\n",
    "print(classification_report(validation_generator.classes, pred_transfer_labels, target_names=class_labels))\n",
    "\n",
    "# Confusion matrix\n",
    "cm_transfer = confusion_matrix(validation_generator.classes, pred_transfer_labels)\n",
    "plt.figure(figsize=(10, 8))\n",
    "sns.heatmap(cm_transfer, annot=True, fmt='d', cmap='Blues', xticklabels=class_labels, yticklabels=class_labels)\n",
    "plt.title('Confusion Matrix - Transfer Learning')\n",
    "plt.show()"
   ]
  },
  {
   "cell_type": "code",
   "execution_count": null,
   "id": "cff5f4f1-e30e-4509-a8a2-af2338b251dc",
   "metadata": {},
   "outputs": [],
   "source": []
  },
  {
   "cell_type": "code",
   "execution_count": null,
   "id": "e71ae91a-7dc5-4320-a4d8-2988f6c9809a",
   "metadata": {},
   "outputs": [],
   "source": []
  },
  {
   "cell_type": "code",
   "execution_count": null,
   "id": "6bf21ef7-ba9e-443b-acaa-37cea1c12dfc",
   "metadata": {},
   "outputs": [],
   "source": []
  },
  {
   "cell_type": "code",
   "execution_count": null,
   "id": "14889792-40b3-42ef-810d-d6c7945f3d6d",
   "metadata": {},
   "outputs": [],
   "source": []
  },
  {
   "cell_type": "code",
   "execution_count": null,
   "id": "33c03aec-d705-46a0-a525-2644ed83e15e",
   "metadata": {},
   "outputs": [],
   "source": []
  },
  {
   "cell_type": "code",
   "execution_count": null,
   "id": "d897d4c7-eff3-41d9-884c-b521bb82ec0f",
   "metadata": {},
   "outputs": [],
   "source": []
  },
  {
   "cell_type": "code",
   "execution_count": null,
   "id": "2f44e56c-6fb3-4f45-8eeb-914f778c02a6",
   "metadata": {},
   "outputs": [],
   "source": []
  },
  {
   "cell_type": "code",
   "execution_count": null,
   "id": "e58881a3-faef-4f70-bf48-ed3a1525482b",
   "metadata": {},
   "outputs": [],
   "source": []
  },
  {
   "cell_type": "code",
   "execution_count": null,
   "id": "fa4fae06-ca17-438b-835c-319a784264f1",
   "metadata": {},
   "outputs": [],
   "source": []
  },
  {
   "cell_type": "code",
   "execution_count": null,
   "id": "191316ce-861d-41a2-b1b9-63e521648863",
   "metadata": {},
   "outputs": [],
   "source": []
  },
  {
   "cell_type": "code",
   "execution_count": null,
   "id": "0cee4a8f-b1c3-4e55-9764-e1b3a63c7578",
   "metadata": {},
   "outputs": [],
   "source": []
  }
 ],
 "metadata": {
  "kernelspec": {
   "display_name": "Python 3 (ipykernel)",
   "language": "python",
   "name": "python3"
  },
  "language_info": {
   "codemirror_mode": {
    "name": "ipython",
    "version": 3
   },
   "file_extension": ".py",
   "mimetype": "text/x-python",
   "name": "python",
   "nbconvert_exporter": "python",
   "pygments_lexer": "ipython3",
   "version": "3.12.4"
  }
 },
 "nbformat": 4,
 "nbformat_minor": 5
}
